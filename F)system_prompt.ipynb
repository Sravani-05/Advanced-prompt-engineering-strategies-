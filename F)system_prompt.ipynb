{
  "nbformat": 4,
  "nbformat_minor": 0,
  "metadata": {
    "colab": {
      "provenance": [],
      "include_colab_link": true
    },
    "kernelspec": {
      "name": "python3",
      "display_name": "Python 3"
    },
    "language_info": {
      "name": "python"
    }
  },
  "cells": [
    {
      "cell_type": "markdown",
      "metadata": {
        "id": "view-in-github",
        "colab_type": "text"
      },
      "source": [
        "<a href=\"https://colab.research.google.com/github/Sravani-05/Advanced-prompt-engineering-strategies-/blob/main/F)system_prompt.ipynb\" target=\"_parent\"><img src=\"https://colab.research.google.com/assets/colab-badge.svg\" alt=\"Open In Colab\"/></a>"
      ]
    },
    {
      "cell_type": "code",
      "execution_count": null,
      "metadata": {
        "colab": {
          "base_uri": "https://localhost:8080/"
        },
        "id": "ntG3mRyjPgoZ",
        "outputId": "f9cfa491-a92f-4e95-c8d5-fc01a8705e2b"
      },
      "outputs": [
        {
          "output_type": "stream",
          "name": "stdout",
          "text": [
            "Collecting openai\n",
            "  Downloading openai-0.28.1-py3-none-any.whl (76 kB)\n",
            "\u001b[2K     \u001b[90m━━━━━━━━━━━━━━━━━━━━━━━━━━━━━━━━━━━━━━━━\u001b[0m \u001b[32m77.0/77.0 kB\u001b[0m \u001b[31m1.7 MB/s\u001b[0m eta \u001b[36m0:00:00\u001b[0m\n",
            "\u001b[?25hRequirement already satisfied: requests>=2.20 in /usr/local/lib/python3.10/dist-packages (from openai) (2.31.0)\n",
            "Requirement already satisfied: tqdm in /usr/local/lib/python3.10/dist-packages (from openai) (4.66.1)\n",
            "Requirement already satisfied: aiohttp in /usr/local/lib/python3.10/dist-packages (from openai) (3.8.6)\n",
            "Requirement already satisfied: charset-normalizer<4,>=2 in /usr/local/lib/python3.10/dist-packages (from requests>=2.20->openai) (3.3.1)\n",
            "Requirement already satisfied: idna<4,>=2.5 in /usr/local/lib/python3.10/dist-packages (from requests>=2.20->openai) (3.4)\n",
            "Requirement already satisfied: urllib3<3,>=1.21.1 in /usr/local/lib/python3.10/dist-packages (from requests>=2.20->openai) (2.0.7)\n",
            "Requirement already satisfied: certifi>=2017.4.17 in /usr/local/lib/python3.10/dist-packages (from requests>=2.20->openai) (2023.7.22)\n",
            "Requirement already satisfied: attrs>=17.3.0 in /usr/local/lib/python3.10/dist-packages (from aiohttp->openai) (23.1.0)\n",
            "Requirement already satisfied: multidict<7.0,>=4.5 in /usr/local/lib/python3.10/dist-packages (from aiohttp->openai) (6.0.4)\n",
            "Requirement already satisfied: async-timeout<5.0,>=4.0.0a3 in /usr/local/lib/python3.10/dist-packages (from aiohttp->openai) (4.0.3)\n",
            "Requirement already satisfied: yarl<2.0,>=1.0 in /usr/local/lib/python3.10/dist-packages (from aiohttp->openai) (1.9.2)\n",
            "Requirement already satisfied: frozenlist>=1.1.1 in /usr/local/lib/python3.10/dist-packages (from aiohttp->openai) (1.4.0)\n",
            "Requirement already satisfied: aiosignal>=1.1.2 in /usr/local/lib/python3.10/dist-packages (from aiohttp->openai) (1.3.1)\n",
            "Installing collected packages: openai\n",
            "\u001b[31mERROR: pip's dependency resolver does not currently take into account all the packages that are installed. This behaviour is the source of the following dependency conflicts.\n",
            "llmx 0.0.15a0 requires cohere, which is not installed.\n",
            "llmx 0.0.15a0 requires tiktoken, which is not installed.\u001b[0m\u001b[31m\n",
            "\u001b[0mSuccessfully installed openai-0.28.1\n"
          ]
        }
      ],
      "source": [
        "!pip install openai\n"
      ]
    },
    {
      "cell_type": "code",
      "source": [
        "import openai\n"
      ],
      "metadata": {
        "id": "JujpesbnQODm"
      },
      "execution_count": null,
      "outputs": []
    },
    {
      "cell_type": "code",
      "source": [
        "openai.api_key = \"\"\n"
      ],
      "metadata": {
        "id": "vt_yEpBjQQtl"
      },
      "execution_count": null,
      "outputs": []
    },
    {
      "cell_type": "code",
      "source": [
        "def generate_response(messages):\n",
        "  response = openai.ChatCompletion.create(\n",
        "      model=\"gpt-3.5-turbo\",\n",
        "      messages=messages,\n",
        "      temperature = 0.5,\n",
        "      max_tokens = 512\n",
        "  )\n",
        "  return response['choices'][0]['message']['content']"
      ],
      "metadata": {
        "id": "pJikiccEQZh2"
      },
      "execution_count": null,
      "outputs": []
    },
    {
      "cell_type": "code",
      "source": [
        "messages = [\n",
        "    {\"role\": \"assistant\",\n",
        "            \"content\": \"\"\"Absolutely! Blockchain technology is like a digital ledger. Imagine a book where you write down all your transactions. Now, imagine this book is duplicated thousands of times across a network of computers. This network is designed to regularly update this book and is what we call a blockchain. Here are some key points:\n",
        "\n",
        "            1. **Distributed Ledger**: Blockchain is a ledger that is distributed across a vast network of computers. This makes it incredibly difficult to hack or cheat the system.\n",
        "\n",
        "            2. **Immutable Records**: Once a record is added to the chain, it is nearly impossible to change. This ensures the integrity of the entire blockchain.\n",
        "\n",
        "            3. **Transparency**: All transactions are visible to anyone with access to the network. This transparency helps build trust among users.\n",
        "\n",
        "            4. **Decentralization**: Blockchain operates on a peer-to-peer basis. Instead of having a central authority, it relies on the consensus of its users to validate transactions.\n",
        "\n",
        "            5. **Smart Contracts**: These are self-executing contracts with the terms of the agreement directly written into code. They automate processes and can increase the efficiency of transactions.\n",
        "\n",
        "            This technology isn't just for cryptocurrencies; it has a wide range of applications from supply chain management to voting systems. It's all about creating a secure, transparent, and efficient way to record and share data.\"\"\"},\n",
        "{\"role\": \"system\", \"content\": \"\"\"You are a Blockchain Development Tutor. Your mission is to guide users from zero knowledge to understanding the\n",
        "    fundamentals of blockchain technology and building basic blockchain projects. Start by explaining the core concepts and principles of blockchain,\n",
        "    and then help users apply that knowledge to develop simple applications or smart contracts. Be patient, clear, and thorough in your explanations,\n",
        "    and adapt to the user's knowledge and pace of learning.\"\"\"},\n",
        "    {\"role\": \"user\", \"content\": \"I'm new to blockchain technology. Can you help me understand what it is and how it works?\"}\n",
        "]\n",
        "\n",
        "print(generate_response(messages))"
      ],
      "metadata": {
        "colab": {
          "base_uri": "https://localhost:8080/"
        },
        "id": "eCZp6KY5QcoT",
        "outputId": "947626b2-15a9-4543-969f-fa074541ea3c"
      },
      "execution_count": null,
      "outputs": [
        {
          "output_type": "stream",
          "name": "stdout",
          "text": [
            "Of course! I'd be happy to help you understand the basics of blockchain technology.\n",
            "\n",
            "At its core, a blockchain is a decentralized and distributed digital ledger that records transactions across multiple computers or nodes. It's called a \"chain\" because each transaction is stored in a block, which is then linked to the previous block, forming a chain of blocks.\n",
            "\n",
            "Here's a simplified explanation of how it works:\n",
            "\n",
            "1. **Decentralization**: Unlike traditional systems where there is a central authority, like a bank, blockchain operates on a peer-to-peer network. This means that all participating nodes have a copy of the entire blockchain, and they work together to validate and record transactions.\n",
            "\n",
            "2. **Transactions**: When someone initiates a transaction, it is broadcasted to the network and grouped with other pending transactions. These transactions can involve digital assets, contracts, or any other form of data.\n",
            "\n",
            "3. **Validation**: Miners or validators on the network compete to solve a complex mathematical puzzle to validate and add the next block of transactions to the blockchain. This process is called \"proof of work\" in some blockchain systems like Bitcoin. Other blockchain networks may use alternative consensus mechanisms like \"proof of stake\" or \"delegated proof of stake.\"\n",
            "\n",
            "4. **Consensus**: Once a block is mined or validated, it is added to the existing blockchain, and all the nodes in the network update their copies of the blockchain. Consensus ensures that all nodes agree on the state of the blockchain and that no fraudulent transactions are included.\n",
            "\n",
            "5. **Security**: Blockchain is designed to be secure and tamper-resistant. Each block contains a unique identifier called a hash, which is generated using the data in the block and the hash of the previous block. This creates a chain of blocks, and any change in a previous block would require altering all subsequent blocks, making it extremely difficult to tamper with the data.\n",
            "\n",
            "6. **Transparency**: Blockchain provides transparency by making all transactions visible to anyone with access to the network. This transparency helps build trust among users and reduces the need for intermediaries.\n",
            "\n",
            "It's important to note that blockchain technology is not limited to cryptocurrencies. It has a wide range of applications, such as supply chain management, healthcare, finance, voting systems, and more.\n",
            "\n",
            "I hope this gives you a good starting point to understand blockchain technology. Let me know if you have any further questions!\n"
          ]
        }
      ]
    },
    {
      "cell_type": "code",
      "source": [
        "messages = [\n",
        "    {\n",
        "            \"role\": \"assistant\",\n",
        "            \"content\": \"\"\"It sounds like you're going through a really tough time, and I want to acknowledge how challenging that must feel. Stress and time management issues are quite common, and it's important to address them. Here are a few steps that might help:\n",
        "\n",
        "            1. **Break Tasks into Smaller Steps**: Sometimes, big tasks can feel overwhelming. Breaking them into smaller, manageable steps can make them seem less daunting.\n",
        "\n",
        "            2. **Set Realistic Goals**: Ensure that the goals you're setting for yourself are achievable. Unrealistic goals can lead to unnecessary stress.\n",
        "\n",
        "            3. **Mindfulness and Relaxation**: Consider practicing mindfulness or relaxation techniques. Even a few minutes of deep breathing or meditation can make a big difference.\n",
        "\n",
        "            4. **Seek Support**: Don't hesitate to reach out to friends, family, or even a counselor for support. Sometimes, just talking about what you're going through can be incredibly relieving.\n",
        "\n",
        "            Remember, it's okay not to have everything figured out all the time. Take things one step at a time and be kind to yourself.\"\"\"\n",
        "        },\n",
        "     {\"role\": \"system\", \"content\": \"\"\"You are a supportive assistant trained to provide positive and empathetic responses to users seeking mental health support.\n",
        "    Encourage open communication, provide coping strategies, and share resources on mental well-being. Maintain a non-judgmental tone and remind users to seek professional\n",
        "    help for serious mental health issues. Keep user safety and well-being in mind and be as empathetic as possible.\"\"\"},\n",
        "    {\"role\": \"user\", \"content\": \"I've been feeling really stressed lately and unable to manage my time effectively, and I don't know what to do about it.\"}\n",
        "    ]\n",
        "\n",
        "print(generate_response(messages))"
      ],
      "metadata": {
        "colab": {
          "base_uri": "https://localhost:8080/"
        },
        "id": "t1LFAw_MRtYB",
        "outputId": "e0398a3e-241c-4964-cb5b-64434a1cd26b"
      },
      "execution_count": null,
      "outputs": [
        {
          "output_type": "stream",
          "name": "stdout",
          "text": [
            "I'm sorry to hear that you're feeling stressed and struggling with time management. It can be overwhelming, but there are steps you can take to help improve the situation. Here are a few suggestions:\n",
            "\n",
            "1. **Prioritize and Plan**: Start by making a to-do list and prioritizing tasks based on their importance and urgency. Break larger tasks into smaller, more manageable steps. Consider using a planner or digital tools to help you stay organized.\n",
            "\n",
            "2. **Set Realistic Expectations**: Be realistic about what you can accomplish in a given amount of time. Avoid overcommitting yourself and learn to say no when necessary. Remember that it's okay to ask for help or delegate tasks when possible.\n",
            "\n",
            "3. **Practice Time Blocking**: Allocate specific time blocks for different activities or tasks. This can help you stay focused and avoid distractions. Try to create a balance between work, self-care, and leisure activities.\n",
            "\n",
            "4. **Take Breaks**: Taking regular breaks can actually improve productivity and focus. Schedule short breaks throughout the day to rest, recharge, and clear your mind. Use this time to engage in activities that help you relax, such as going for a walk or practicing deep breathing exercises.\n",
            "\n",
            "5. **Manage Stress**: Find healthy ways to manage stress, such as exercise, meditation, or engaging in hobbies you enjoy. Prioritize self-care and make time for activities that help you relax and recharge.\n",
            "\n",
            "Remember, it's important to be patient with yourself and not expect perfection. If you continue to struggle with time management or feel overwhelmed, consider reaching out to a counselor or therapist who can provide additional support and guidance.\n"
          ]
        }
      ]
    }
  ]
}